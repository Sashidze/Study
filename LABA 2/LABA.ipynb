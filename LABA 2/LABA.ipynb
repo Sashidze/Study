{
 "cells": [
  {
   "cell_type": "code",
   "execution_count": null,
   "metadata": {},
   "outputs": [],
   "source": [
    "a = \"text\" #Типи Python\n",
    "b = 1 # числова Змінна\n",
    "c = ['a', 2, 3.1, \"lel\"] # List\n",
    "d = {\"a\": \"Буква\", \"b\": 2} # Dict\n",
    "e = (\"g\", \"u\",) # Tuple\n",
    "f= {\"ää\", } # Set\n",
    "print(\"text \", True) #Виведення констант\n",
    "print(abs(-17.6), f\"є рівним {abs(17.6)}\") #Використання стандартних функцій\n",
    "letters = [\"g\", \"h\", \"ü\"] #Використання циклу\n",
    " \n",
    "for i in range(len(letters)):\n",
    " print(f\"На позиції {i} знаходиться буква {letters[i]}\")\n",
    "letters = [\"g\", \"h\", \"ü\"] #Використання циклу\n",
    "\n",
    "for i in range(len(letters)):\n",
    " print(f\"На позиції {i} знаходиться буква {letters[i]}\")\n",
    "A = False #Використання розгалужень\n",
    "print(\"Значить А=True\" if A else \"Значить А=False\")\n",
    "A = 0 #Конструкція try>exept>finally\n",
    "try:\n",
    "    print(\"Що буде якщо\", 10/A, \"?\")\n",
    "except Exception as e:\n",
    "    print(e)\n",
    "finally:\n",
    "    print(\"А вот воно що!\")\n",
    "with open(\"README.md\", \"r\") as f: #оператор with\n",
    "    for line in f:\n",
    "        print(line)\n",
    "        break\n",
    "this_is_lambda = lambda first, last: f'Цей код написав: {first} {last}' #lambda\n",
    "print(\"Це просто функція:\", this_is_lambda)\n",
    "print(\"Це її виклик:\", this_is_lambda('Ромко', 'Бугай'))"
   ]
  }
 ],
 "metadata": {
  "language_info": {
   "name": "python"
  }
 },
 "nbformat": 4,
 "nbformat_minor": 2
}
