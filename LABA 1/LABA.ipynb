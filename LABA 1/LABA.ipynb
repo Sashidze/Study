{
 "cells": [
  {
   "cell_type": "code",
   "execution_count": 1,
   "metadata": {},
   "outputs": [
    {
     "name": "stdout",
     "output_type": "stream",
     "text": [
      "Alex start programming at 2024-01-20 14:08:46.679800. Salzburg is the best city!\n"
     ]
    }
   ],
   "source": [
    "from datetime import datetime\n",
    "name = \"Alex\"\n",
    "location = \"Salzburg\"\n",
    "\n",
    "print(f\"{name} start programming at {datetime.now()}. {location} is the best city!\")"
   ]
  },
  {
   "cell_type": "markdown",
   "metadata": {},
   "source": [
    "Моя перша програма ! "
   ]
  }
 ],
 "metadata": {
  "kernelspec": {
   "display_name": "Python 3",
   "language": "python",
   "name": "python3"
  },
  "language_info": {
   "codemirror_mode": {
    "name": "ipython",
    "version": 3
   },
   "file_extension": ".py",
   "mimetype": "text/x-python",
   "name": "python",
   "nbconvert_exporter": "python",
   "pygments_lexer": "ipython3",
   "version": "3.11.7"
  }
 },
 "nbformat": 4,
 "nbformat_minor": 2
}
